{
 "cells": [
  {
   "cell_type": "code",
   "execution_count": 2,
   "metadata": {},
   "outputs": [],
   "source": [
    "import numpy as np\n",
    "import librosa\n",
    "import librosa.display\n",
    "import matplotlib.pyplot as plt\n",
    "import IPython\n",
    "import IPython.display as ipd\n",
    "import soundfile as sf\n",
    "from pydub import AudioSegment\n",
    "from pydub import AudioSegment\n",
    "from pydub.playback import play\n",
    "\n",
    "\n",
    "%matplotlib inline"
   ]
  },
  {
   "cell_type": "code",
   "execution_count": 3,
   "metadata": {},
   "outputs": [],
   "source": [
    "def play_audio(filePath):\n",
    "    \"\"\"\n",
    "    input: file path to the audio file. \n",
    "    For .wav format, filePath can be used as direct input to waveshow().\n",
    "    This function plays the audio\n",
    "    \"\"\"\n",
    "    data, sr = librosa.load(filePath, sr=None)\n",
    "    IPython.core.display.display(ipd.Audio(data=data,rate=sr)) #force the function to render the HTML\n",
    "\n",
    "def plot_and_play(filePath):\n",
    "    \"\"\"\n",
    "    input: file path to the audio file. \n",
    "    For .wav format, filePath can be used as direct input to waveshow().\n",
    "    This function plots the & displays the audio \n",
    "    We would need to force the HTML to be displayed as Audio() is used inside a function\n",
    "    \"\"\"\n",
    "    data, sr = librosa.load(filePath, sr=None)\n",
    "    ax = plt.figure(figsize=(14, 5))\n",
    "    plt.axis((None,7,-1,1))\n",
    "\n",
    "    librosa.display.waveshow(data, sr=sr)\n",
    "    IPython.core.display.display(ipd.Audio(data=data,rate=sr)) #force the function to render the HTML\n",
    "    \n",
    "def flac_to_mp3(filePath):\n",
    "    sample = AudioSegment.from_file(filePath, format=\"flac\")\n",
    "    file_handle = sample.export(\".\".join(filePath.split(\".\")[:-1]) + \".mp3\",\n",
    "                           format=\"mp3\",)\n",
    "                           #bitrate=\"192k\",)\n",
    "def plot_melspectrogram(filePath):\n",
    "    fig, ax = plt.subplots(figsize=(15,10))\n",
    "    y, sr = librosa.load(filePath, sr=None)\n",
    "    S = librosa.feature.melspectrogram(y=y, sr=sr, \n",
    "                                       n_mels=128, fmax=8000)\n",
    "    S_dB = librosa.power_to_db(S, ref=np.max)\n",
    "    img = librosa.display.specshow(S_dB, x_axis='time',\n",
    "                                   y_axis='mel', sr=sr,\n",
    "                                   fmax=8000, ax=ax)\n",
    "    fig.colorbar(img, ax=ax, format='%+2.0f dB')\n",
    "    ax.set(title='Mel-frequency spectrogram')\n",
    "    \n",
    "def get_duration(filePath, sr=160000):\n",
    "    y, sr = librosa.load(filePath)\n",
    "    return librosa.get_duration(y=y,sr=sr)\n",
    "\n",
    "\n",
    "def cut_and_save_librosa(filePath, start, end, sr=160000):\n",
    "    \"\"\"not working\"\"\"\n",
    "    y, sr = librosa.load(filePath, sr=sr)\n",
    "    y = y[start*sr:end*sr]\n",
    "    sf.write(\".\".join(filePath.split(\".\")[:-1]) + \"_cut.wav\", y, sr)\n",
    "    \n",
    "def cut_duration_pydub(filePath, start, end=None):\n",
    "    sound = AudioSegment.from_file(filePath, format=\"wav\")\n",
    "    if end == None:\n",
    "        new = sound[start*1000:]\n",
    "    else:\n",
    "        new = sound[start*1000:end*1000]\n",
    "    new.export(\".\".join(filePath.split(\".\")[:-1]) + \"_cut.wav\", format=\"wav\")\n",
    "\n",
    "def remove_duration(filePath, start, end):\n",
    "    sound = AudioSegment.from_file(filePath, format=\"wav\")\n",
    "    new = sound[:start*1000] + sound[end*1000:]\n",
    "    new.export(\".\".join(filePath.split(\".\")[:-1]) + \"_cut.wav\", format=\"wav\")\n",
    "\n",
    "def merge_files(filePath1, filePath2):\n",
    "    sound1 = AudioSegment.from_file(filePath1, format=\"wav\")\n",
    "    sound2 = AudioSegment.from_file(filePath2, format=\"wav\")\n",
    "    combined = sound1 + sound2\n",
    "    combined.export(\".\".join(filePath1.split(\".\")[:-1]) + \"_merged.wav\", format=\"wav\")\n",
    "\n",
    "def merge_all_files(filePathList):\n",
    "    combined = AudioSegment.empty()\n",
    "    for filePath in filePathList:\n",
    "        sound = AudioSegment.from_file(filePath, format=\"wav\")\n",
    "        combined += sound\n",
    "    combined.export(\".\".join(filePathList[0].split(\".\")[:-1]) + \"_merged.wav\", format=\"wav\")\n",
    "\n",
    "def to_mono_librosa(filePath):\n",
    "    y, sr = librosa.load(filePath, sr=None)\n",
    "    y_mono = librosa.to_mono(y)\n",
    "    sf.write(\".\".join(filePath.split(\".\")[:-1]) + \"_mono.wav\", y_mono, sr)"
   ]
  },
  {
   "cell_type": "code",
   "execution_count": 73,
   "metadata": {},
   "outputs": [],
   "source": [
    "# sound = AudioSegment.from_file(\"audio/001-051.wav\", format=\"wav\")\n",
    "\n",
    "# new = sound[:1*1000] + sound[3*1000:]\n",
    "# new.export(\"test_001-051p.wav\", format=\"wav\")"
   ]
  },
  {
   "cell_type": "code",
   "execution_count": 82,
   "metadata": {},
   "outputs": [],
   "source": [
    "# 001-051p.wav\n",
    "cut_duration_pydub(\"audio/001-051p.wav\", 0, 0.7)\n",
    "cut_duration_pydub(\"audio/001-051_mono.wav\", 1.21)\n",
    "merge_files(\"audio/001-051p_cut.wav\", \"audio/001-051_mono_cut.wav\")"
   ]
  },
  {
   "cell_type": "code",
   "execution_count": 70,
   "metadata": {},
   "outputs": [],
   "source": [
    "# 011-014.wav\n",
    "cut_duration_pydub(\"audio/011-014p.wav\", 0, 1)\n",
    "cut_duration_pydub(\"audio/011-014_mono.wav\", 1.58)\n",
    "merge_files(\"audio/011-014p_cut.wav\", \"audio/011-014_mono_cut.wav\")"
   ]
  },
  {
   "cell_type": "code",
   "execution_count": 4,
   "metadata": {},
   "outputs": [],
   "source": [
    "# 012-018.wav\n",
    "cut_duration_pydub(\"audio/012-018_mono.wav\", 0, 3.0) # head"
   ]
  },
  {
   "cell_type": "code",
   "execution_count": 6,
   "metadata": {},
   "outputs": [],
   "source": [
    "cut_duration_pydub(\"audio/012-018_mono.wav\", 4.3) #tail"
   ]
  },
  {
   "cell_type": "code",
   "execution_count": 7,
   "metadata": {},
   "outputs": [],
   "source": [
    "cut_duration_pydub(\"audio/012-018p.wav\", 2.5, 3.3)\n"
   ]
  },
  {
   "cell_type": "code",
   "execution_count": 12,
   "metadata": {},
   "outputs": [],
   "source": [
    "merge_all_files([\"audio/012-018_mono_cut_head.wav\", \"audio/012-018p_cut.wav\", \"audio/012-018_mono_cut_tail.wav\"])"
   ]
  },
  {
   "cell_type": "code",
   "execution_count": null,
   "metadata": {},
   "outputs": [],
   "source": []
  }
 ],
 "metadata": {
  "kernelspec": {
   "display_name": "Python 3",
   "language": "python",
   "name": "python3"
  },
  "language_info": {
   "codemirror_mode": {
    "name": "ipython",
    "version": 3
   },
   "file_extension": ".py",
   "mimetype": "text/x-python",
   "name": "python",
   "nbconvert_exporter": "python",
   "pygments_lexer": "ipython3",
   "version": "3.8.16"
  },
  "orig_nbformat": 4
 },
 "nbformat": 4,
 "nbformat_minor": 2
}
